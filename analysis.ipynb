{
 "cells": [
  {
   "cell_type": "code",
   "execution_count": 3,
   "id": "3d02eadc",
   "metadata": {
    "scrolled": true
   },
   "outputs": [
    {
     "name": "stderr",
     "output_type": "stream",
     "text": [
      "/u/mk/ptch0465/softwaresrc/anaconda3/envs/test/lib/python3.9/site-packages/MDAnalysis/coordinates/chemfiles.py:108: DeprecationWarning: distutils Version classes are deprecated. Use packaging.version instead.\n",
      "  MIN_CHEMFILES_VERSION = LooseVersion(\"0.9\")\n"
     ]
    },
    {
     "data": {
      "application/vnd.jupyter.widget-view+json": {
       "model_id": "2fde1f7c1a614afca861a16365848fbd",
       "version_major": 2,
       "version_minor": 0
      },
      "text/plain": []
     },
     "metadata": {},
     "output_type": "display_data"
    },
    {
     "name": "stdout",
     "output_type": "stream",
     "text": [
      "Using MDAnalysis version 2.0.0\n",
      "Using NGLView version 3.0.3\n"
     ]
    }
   ],
   "source": [
    "import MDAnalysis\n",
    "import numpy as np\n",
    "import nglview as nv\n",
    "import matplotlib.pyplot as plt\n",
    "print(\"Using MDAnalysis version\", MDAnalysis.__version__)\n",
    "print(\"Using NGLView version\", nv.__version__)"
   ]
  },
  {
   "cell_type": "code",
   "execution_count": 4,
   "id": "9cac29e4",
   "metadata": {},
   "outputs": [
    {
     "data": {
      "text/plain": [
       "200874"
      ]
     },
     "execution_count": 4,
     "metadata": {},
     "output_type": "execute_result"
    }
   ],
   "source": [
    "#load a trajectory\n",
    "u = MDAnalysis.Universe('final/C36dT.tpr','final/C36dT.xtc')\n",
    "len(u.trajectory)"
   ]
  },
  {
   "cell_type": "code",
   "execution_count": 7,
   "id": "076987b5",
   "metadata": {},
   "outputs": [],
   "source": [
    "v = nv.show_mdanalysis(u)\n",
    "system = v.component_0\n",
    "system.clear()\n",
    "v.camera='orthographic'\n",
    "v.center()\n",
    "v.add_unitcell()\n",
    "v.parameters = {\"fogNear\": 20}\n",
    "sel=u.select_atoms('all')\n",
    "system.add_licorice(selection = sel.atoms.indices)"
   ]
  },
  {
   "cell_type": "code",
   "execution_count": 8,
   "id": "12b1f7f1",
   "metadata": {},
   "outputs": [
    {
     "data": {
      "application/vnd.jupyter.widget-view+json": {
       "model_id": "c1ee44691bf04819a08b1255024ab542",
       "version_major": 2,
       "version_minor": 0
      },
      "text/plain": [
       "NGLWidget(max_frame=200873)"
      ]
     },
     "metadata": {},
     "output_type": "display_data"
    }
   ],
   "source": [
    "v.display()"
   ]
  },
  {
   "cell_type": "code",
   "execution_count": 9,
   "id": "d52a80bc",
   "metadata": {},
   "outputs": [],
   "source": [
    "# radius of gyration\n",
    "sel=u.select_atoms('all')\n",
    "Rgs=[]\n",
    "skipframes= 10000 #skip 100ns\n",
    "for ts in u.trajectory[skipframes::]:\n",
    "    \n",
    "    coordinates = sel.atoms.positions\n",
    "    center = np.sum(coordinates,axis=0)/len(coordinates)\n",
    "    \n",
    "    # get squared distance from center\n",
    "    ri = np.linalg.norm(coordinates-center,axis=1) #0.852 oxdna conversion factor?\n",
    "    # sum the unweighted positions\n",
    "    sq = np.sum(ri*ri)/len(coordinates)\n",
    "\n",
    "    Rgs.append(np.sqrt(sq))"
   ]
  },
  {
   "cell_type": "code",
   "execution_count": 10,
   "id": "8b282fc2",
   "metadata": {},
   "outputs": [],
   "source": [
    "#end to end distance\n",
    "sel1=u.select_atoms('resindex 0')\n",
    "sel2=u.select_atoms('resindex 29')\n",
    "Rs=[]\n",
    "\n",
    "for ts in u.trajectory[skipframes::]:\n",
    "\n",
    "    coordinates1 = sel1.atoms.positions \n",
    "    coordinates2 = sel2.atoms.positions \n",
    "    center1 = np.sum(coordinates1,axis=0)/len(coordinates1)\n",
    "    center2 = np.sum(coordinates2,axis=0)/len(coordinates2)\n",
    "    Rs.append(np.linalg.norm(center1-center2))\n"
   ]
  },
  {
   "cell_type": "code",
   "execution_count": 11,
   "id": "dfb3041b",
   "metadata": {},
   "outputs": [],
   "source": [
    "import pandas as pd\n",
    "df = pd.DataFrame({'x' : Rgs, 'y' : Rs})"
   ]
  },
  {
   "cell_type": "code",
   "execution_count": 23,
   "id": "34e27a8d",
   "metadata": {},
   "outputs": [
    {
     "name": "stderr",
     "output_type": "stream",
     "text": [
      "/u/mk/ptch0465/softwaresrc/anaconda3/envs/test/lib/python3.9/site-packages/seaborn/_decorators.py:36: FutureWarning: Pass the following variable as a keyword arg: y. From version 0.12, the only valid positional argument will be `data`, and passing other arguments without an explicit keyword will result in an error or misinterpretation.\n",
      "  warnings.warn(\n"
     ]
    },
    {
     "data": {
      "text/plain": [
       "[<matplotlib.lines.Line2D at 0x7f792653b670>]"
      ]
     },
     "execution_count": 23,
     "metadata": {},
     "output_type": "execute_result"
    },
    {
     "data": {
      "image/png": "[encoded data removed]",
      "text/plain": [
       "<Figure size 400x400 with 1 Axes>"
      ]
     },
     "metadata": {
      "needs_background": "light"
     },
     "output_type": "display_data"
    }
   ],
   "source": [
    "fig, ax = plt.subplots(figsize=(2, 2),dpi=200)\n",
    "import seaborn as sns\n",
    "ax = sns.kdeplot(df.x, df.y, cmap='Blues',levels=8) #cmap=\"viridis\"\n",
    "\n",
    "\n",
    "for path in ax.collections[-2].get_paths():\n",
    "    x1, y1 = path.vertices.mean(axis=0);\n",
    "    \n",
    "innerx1 = ax.collections[-3].get_paths()[0].vertices[:,0] #inner path x coords\n",
    "innery1 = ax.collections[-3].get_paths()[0].vertices[:,1]\n",
    "    \n",
    "ax.plot(x1, y1, \"x\",color='black')\n",
    "ax.plot(innerx1[np.argmin(innery1)], innery1[np.argmin(innery1)], \"x\",color='black')\n",
    "ax.plot(innerx1[np.argmax(innery1)], innery1[np.argmax(innery1)], \"x\",color='black')"
   ]
  },
  {
   "cell_type": "code",
   "execution_count": 220,
   "id": "b9fb5171",
   "metadata": {},
   "outputs": [],
   "source": [
    "def find_nearest2(array, value, array2, value2):\n",
    "    array = np.asarray(array)\n",
    "    array2 = np.asarray(array2)\n",
    "    idx = (np.abs(array - value)+np.abs(array2 - value2)).argmin()\n",
    "    return idx"
   ]
  },
  {
   "cell_type": "code",
   "execution_count": 260,
   "id": "e2a177c7",
   "metadata": {},
   "outputs": [
    {
     "data": {
      "text/plain": [
       "200591"
      ]
     },
     "execution_count": 260,
     "metadata": {},
     "output_type": "execute_result"
    }
   ],
   "source": [
    "frame = find_nearest2(Rgs,x1,Rs,y1) #find a frame of the trajectory with a given Rg, R\n",
    "frame"
   ]
  },
  {
   "cell_type": "code",
   "execution_count": 262,
   "id": "fd311cf8",
   "metadata": {},
   "outputs": [],
   "source": [
    "myRg=np.round(Rgs[frame],2)\n",
    "myR=np.round(Rs[frame],2)"
   ]
  },
  {
   "cell_type": "code",
   "execution_count": 265,
   "id": "53982d08",
   "metadata": {},
   "outputs": [
    {
     "name": "stdout",
     "output_type": "stream",
     "text": [
      "Warning: the result of the automatic normal detection ( 1 ) is not reliable\n"
     ]
    },
    {
     "name": "stderr",
     "output_type": "stream",
     "text": [
      "/tmp/ipykernel_238276/3119592392.py:18: DeprecationWarning: `np.float` is a deprecated alias for the builtin `float`. To silence this warning, use `float` by itself. Doing this will not modify any behavior and is safe. If you specifically wanted the numpy scalar type, use `np.float64` here.\n",
      "Deprecated in NumPy 1.20; for more details and guidance: https://numpy.org/devdocs/release/1.20.0-notes.html#deprecations\n",
      "  radii[atom] = 0.5 * np.float(data[5]) *(2**(1/6)) #vdw radii, same as pdb2pqr\n",
      "/u/mk/ptch0465/softwaresrc/anaconda3/envs/test/lib/python3.9/site-packages/MDAnalysis/core/selection.py:907: SelectionWarning: Using float equality to select atoms is not recommended because of inherent limitations in representing numbers on computers (see https://docs.python.org/3.8/tutorial/floatingpoint.html for more). Instead, we recommend using a range to select, e.g. 'mass 0.008000000000000007 to 2.008'. If you still want to compare floats, use the `atol` and `rtol` keywords to modify the tolerance for `np.isclose`.\n",
      "  warnings.warn(msg, category=SelectionWarning)\n"
     ]
    }
   ],
   "source": [
    "#pqr writer\n",
    "import pytim\n",
    "from pytim.datafiles import *\n",
    "from MDAnalysis import transformations as trans\n",
    "charmm = pytim_data.vdwradii(CHARMM36_TOP) \n",
    "interface = pytim.ITIM(u, radii_dict = charmm)\n",
    "u.trajectory[frame+skipframes] # frames discarded remember!\n",
    "\n",
    "radii = dict() #make dictionary from gmx .itp\n",
    "#with open('ffamberbsc1.ff') as f:\n",
    "with open('ffcharmm36.nonbonded.itp') as f:\n",
    "#with open('hbcufix.itp') as f:\n",
    "#with open('ffDES-AMBER.nonbonded.itp') as f:\n",
    "#with open('DES_RNA.itp') as f:\n",
    "    for line in f:\n",
    "        data = (line.split(\";\")[0]).split()\n",
    "        atom = data[0]\n",
    "        radii[atom] = 0.5 * np.float(data[5]) *(2**(1/6)) #vdw radii, same as pdb2pqr\n",
    "        \n",
    "radii_array = np.zeros(len(u.atoms))\n",
    "for i in range(len(u.atoms)):\n",
    "    radii_array[i]=radii[u.atoms.types[i]] \n",
    "    \n",
    "radii_array = radii_array*10 #convert to angstrom\n",
    "        \n",
    "hydrogens=u.select_atoms('mass 1.008').atoms.indices\n",
    "heavyatoms=np.setdiff1d(u.atoms.indices,u.select_atoms('mass 1.008').atoms.indices) #indices\n",
    "\n",
    "for j in heavyatoms:\n",
    "    radii_array[j] = radii_array[j] + 2 # puff out, Ali w1.4\n",
    "    \n",
    "u.atoms.radii=radii_array #convert to angstrom\n",
    "\n",
    "workflow = [trans.unwrap(u.atoms)]\n",
    "u.trajectory.add_transformations(*workflow)\n",
    "\n",
    "pa = u.atoms.principal_axes()\n",
    "u.atoms.align_principal_axis(2, [1,0,0])\n",
    "\n",
    "#Patoms=u.select_atoms('name P').atoms.indices #DES RNA only\n",
    "#u.atoms[Patoms].charges= u.atoms[Patoms].charges -0.1\n",
    "    \n",
    "u.atoms[0].charge=u.atoms[0].charge -1\n",
    "u.atoms[-1].charge=u.atoms[-1].charge -1 #terminal charges\n",
    "    \n",
    "a = MDAnalysis.coordinates.PQR.PQRWriter('C360Rg{}_R{}'.format(myRg,myR))\n",
    "\n",
    "a.write(u)"
   ]
  },
  {
   "cell_type": "code",
   "execution_count": 16,
   "id": "394eccf1",
   "metadata": {},
   "outputs": [],
   "source": [
    "# orientational correlation analysis\n",
    "backbone=u.select_atoms(\"name P\")\n",
    "n = len(backbone) #number of atoms formed to make chain of vectors\n",
    "\n",
    "bs = []\n",
    "for i in range(n-1):\n",
    "    b = backbone.atoms.positions[i+1] - backbone.atoms.positions[i]\n",
    "    bs.append(np.linalg.norm(b))\n",
    "\n",
    "lb = np.mean(bs) #mean bond length for chain of vectors\n",
    "\n",
    "results = np.zeros(n - 1, dtype=np.float32)\n",
    "\n",
    "skipframes=10000\n",
    "\n",
    "for step in u.trajectory[skipframes::]:\n",
    "    # Vector from each atom to next\n",
    "    vecs = backbone.positions[1:] - backbone.positions[:-1]\n",
    "    #bcs.append(np.linalg.norm(backbone.positions[1:] - backbone.positions[:-1],axis=1))\n",
    "    # Normalized to unit vectors\n",
    "    vecs /= np.sqrt((vecs * vecs).sum(axis=1))[:, None]\n",
    "\n",
    "    inner_pr = np.inner(vecs, vecs)\n",
    "    for i in range(n-1):\n",
    "            results[:(n-1)-i] += inner_pr[i, i:]\n",
    "        "
   ]
  },
  {
   "cell_type": "code",
   "execution_count": 17,
   "id": "dfb1def2",
   "metadata": {},
   "outputs": [],
   "source": [
    "norm = np.linspace(n - 1, 1, n - 1)\n",
    "norm *= (len(u.trajectory)-skipframes)\n",
    "\n",
    "results = results / norm\n",
    "x = lb *np.arange(len(results))"
   ]
  },
  {
   "cell_type": "code",
   "execution_count": 22,
   "id": "976135b0",
   "metadata": {},
   "outputs": [
    {
     "data": {
      "text/plain": [
       "<matplotlib.legend.Legend at 0x7f7926410df0>"
      ]
     },
     "execution_count": 22,
     "metadata": {},
     "output_type": "execute_result"
    },
    {
     "data": {
      "image/png": "[encoded data removed]",
      "text/plain": [
       "<Figure size 400x400 with 1 Axes>"
      ]
     },
     "metadata": {
      "needs_background": "light"
     },
     "output_type": "display_data"
    }
   ],
   "source": [
    "fig,ax = plt.subplots(figsize=(2, 2),dpi=200)\n",
    "\n",
    "dx=x[3]-x[2];\n",
    "ax.plot((x/dx),results,'^--',label='dT',markersize=7,markerfacecolor='none',color='tab:blue')\n",
    "\n",
    "ax.set_xlabel(\"|i-j|\")\n",
    "ax.set_ylabel(\"OCF\")\n",
    "\n",
    "plt.legend()"
   ]
  },
  {
   "cell_type": "code",
   "execution_count": null,
   "id": "de1d6366",
   "metadata": {},
   "outputs": [],
   "source": []
  }
 ],
 "metadata": {
  "kernelspec": {
   "display_name": "Python 3 (ipykernel)",
   "language": "python",
   "name": "python3"
  },
  "language_info": {
   "codemirror_mode": {
    "name": "ipython",
    "version": 3
   },
   "file_extension": ".py",
   "mimetype": "text/x-python",
   "name": "python",
   "nbconvert_exporter": "python",
   "pygments_lexer": "ipython3",
   "version": "3.9.13"
  }
 },
 "nbformat": 4,
 "nbformat_minor": 5
}
